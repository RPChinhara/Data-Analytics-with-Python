{
 "cells": [
  {
   "cell_type": "markdown",
   "metadata": {},
   "source": [
    "##### Maximum Likelihood Estimation"
   ]
  },
  {
   "cell_type": "code",
   "execution_count": 3,
   "metadata": {},
   "outputs": [],
   "source": [
    "import numpy as np\n",
    "from scipy.optimize import minimize\n",
    "import scipy.stats as stats\n",
    "import pandas as pd\n",
    "import statsmodels.api as sm"
   ]
  },
  {
   "cell_type": "code",
   "execution_count": 4,
   "metadata": {},
   "outputs": [
    {
     "data": {
      "text/html": [
       "<div>\n",
       "<style scoped>\n",
       "    .dataframe tbody tr th:only-of-type {\n",
       "        vertical-align: middle;\n",
       "    }\n",
       "\n",
       "    .dataframe tbody tr th {\n",
       "        vertical-align: top;\n",
       "    }\n",
       "\n",
       "    .dataframe thead th {\n",
       "        text-align: right;\n",
       "    }\n",
       "</style>\n",
       "<table border=\"1\" class=\"dataframe\">\n",
       "  <thead>\n",
       "    <tr style=\"text-align: right;\">\n",
       "      <th></th>\n",
       "      <th>Id</th>\n",
       "      <th>Y</th>\n",
       "      <th>X</th>\n",
       "    </tr>\n",
       "  </thead>\n",
       "  <tbody>\n",
       "    <tr>\n",
       "      <th>0</th>\n",
       "      <td>1</td>\n",
       "      <td>2</td>\n",
       "      <td>1</td>\n",
       "    </tr>\n",
       "    <tr>\n",
       "      <th>1</th>\n",
       "      <td>2</td>\n",
       "      <td>6</td>\n",
       "      <td>4</td>\n",
       "    </tr>\n",
       "    <tr>\n",
       "      <th>2</th>\n",
       "      <td>3</td>\n",
       "      <td>7</td>\n",
       "      <td>5</td>\n",
       "    </tr>\n",
       "    <tr>\n",
       "      <th>3</th>\n",
       "      <td>4</td>\n",
       "      <td>9</td>\n",
       "      <td>6</td>\n",
       "    </tr>\n",
       "    <tr>\n",
       "      <th>4</th>\n",
       "      <td>5</td>\n",
       "      <td>15</td>\n",
       "      <td>9</td>\n",
       "    </tr>\n",
       "  </tbody>\n",
       "</table>\n",
       "</div>"
      ],
      "text/plain": [
       "   Id   Y  X\n",
       "0   1   2  1\n",
       "1   2   6  4\n",
       "2   3   7  5\n",
       "3   4   9  6\n",
       "4   5  15  9"
      ]
     },
     "execution_count": 4,
     "metadata": {},
     "output_type": "execute_result"
    }
   ],
   "source": [
    "tb1 = pd.read_excel('Data Files\\MLE.xlsx')\n",
    "tb1"
   ]
  },
  {
   "cell_type": "code",
   "execution_count": 5,
   "metadata": {},
   "outputs": [
    {
     "name": "stderr",
     "output_type": "stream",
     "text": [
      "C:\\Users\\rpchi\\Anaconda3\\lib\\site-packages\\statsmodels\\tsa\\tsatools.py:142: FutureWarning: In a future version of pandas all arguments of concat except for the argument 'objs' will be keyword-only\n",
      "  x = pd.concat(x[::order], 1)\n",
      "C:\\Users\\rpchi\\Anaconda3\\lib\\site-packages\\statsmodels\\stats\\stattools.py:74: ValueWarning: omni_normtest is not valid with less than 8 observations; 5 samples were given.\n",
      "  warn(\"omni_normtest is not valid with less than 8 observations; %i \"\n"
     ]
    },
    {
     "data": {
      "text/html": [
       "<table class=\"simpletable\">\n",
       "<caption>OLS Regression Results</caption>\n",
       "<tr>\n",
       "  <th>Dep. Variable:</th>            <td>Y</td>        <th>  R-squared:         </th> <td>   0.980</td>\n",
       "</tr>\n",
       "<tr>\n",
       "  <th>Model:</th>                   <td>OLS</td>       <th>  Adj. R-squared:    </th> <td>   0.973</td>\n",
       "</tr>\n",
       "<tr>\n",
       "  <th>Method:</th>             <td>Least Squares</td>  <th>  F-statistic:       </th> <td>   145.9</td>\n",
       "</tr>\n",
       "<tr>\n",
       "  <th>Date:</th>             <td>Sun, 13 Mar 2022</td> <th>  Prob (F-statistic):</th>  <td>0.00122</td>\n",
       "</tr>\n",
       "<tr>\n",
       "  <th>Time:</th>                 <td>10:13:42</td>     <th>  Log-Likelihood:    </th> <td> -4.5811</td>\n",
       "</tr>\n",
       "<tr>\n",
       "  <th>No. Observations:</th>      <td>     5</td>      <th>  AIC:               </th> <td>   13.16</td>\n",
       "</tr>\n",
       "<tr>\n",
       "  <th>Df Residuals:</th>          <td>     3</td>      <th>  BIC:               </th> <td>   12.38</td>\n",
       "</tr>\n",
       "<tr>\n",
       "  <th>Df Model:</th>              <td>     1</td>      <th>                     </th>     <td> </td>   \n",
       "</tr>\n",
       "<tr>\n",
       "  <th>Covariance Type:</th>      <td>nonrobust</td>    <th>                     </th>     <td> </td>   \n",
       "</tr>\n",
       "</table>\n",
       "<table class=\"simpletable\">\n",
       "<tr>\n",
       "    <td></td>       <th>coef</th>     <th>std err</th>      <th>t</th>      <th>P>|t|</th>  <th>[0.025</th>    <th>0.975]</th>  \n",
       "</tr>\n",
       "<tr>\n",
       "  <th>const</th> <td>   -0.2882</td> <td>    0.755</td> <td>   -0.382</td> <td> 0.728</td> <td>   -2.692</td> <td>    2.115</td>\n",
       "</tr>\n",
       "<tr>\n",
       "  <th>X</th>     <td>    1.6176</td> <td>    0.134</td> <td>   12.079</td> <td> 0.001</td> <td>    1.191</td> <td>    2.044</td>\n",
       "</tr>\n",
       "</table>\n",
       "<table class=\"simpletable\">\n",
       "<tr>\n",
       "  <th>Omnibus:</th>       <td>   nan</td> <th>  Durbin-Watson:     </th> <td>   1.405</td>\n",
       "</tr>\n",
       "<tr>\n",
       "  <th>Prob(Omnibus):</th> <td>   nan</td> <th>  Jarque-Bera (JB):  </th> <td>   0.551</td>\n",
       "</tr>\n",
       "<tr>\n",
       "  <th>Skew:</th>          <td> 0.089</td> <th>  Prob(JB):          </th> <td>   0.759</td>\n",
       "</tr>\n",
       "<tr>\n",
       "  <th>Kurtosis:</th>      <td> 1.384</td> <th>  Cond. No.          </th> <td>    12.5</td>\n",
       "</tr>\n",
       "</table><br/><br/>Notes:<br/>[1] Standard Errors assume that the covariance matrix of the errors is correctly specified."
      ],
      "text/plain": [
       "<class 'statsmodels.iolib.summary.Summary'>\n",
       "\"\"\"\n",
       "                            OLS Regression Results                            \n",
       "==============================================================================\n",
       "Dep. Variable:                      Y   R-squared:                       0.980\n",
       "Model:                            OLS   Adj. R-squared:                  0.973\n",
       "Method:                 Least Squares   F-statistic:                     145.9\n",
       "Date:                Sun, 13 Mar 2022   Prob (F-statistic):            0.00122\n",
       "Time:                        10:13:42   Log-Likelihood:                -4.5811\n",
       "No. Observations:                   5   AIC:                             13.16\n",
       "Df Residuals:                       3   BIC:                             12.38\n",
       "Df Model:                           1                                         \n",
       "Covariance Type:            nonrobust                                         \n",
       "==============================================================================\n",
       "                 coef    std err          t      P>|t|      [0.025      0.975]\n",
       "------------------------------------------------------------------------------\n",
       "const         -0.2882      0.755     -0.382      0.728      -2.692       2.115\n",
       "X              1.6176      0.134     12.079      0.001       1.191       2.044\n",
       "==============================================================================\n",
       "Omnibus:                          nan   Durbin-Watson:                   1.405\n",
       "Prob(Omnibus):                    nan   Jarque-Bera (JB):                0.551\n",
       "Skew:                           0.089   Prob(JB):                        0.759\n",
       "Kurtosis:                       1.384   Cond. No.                         12.5\n",
       "==============================================================================\n",
       "\n",
       "Notes:\n",
       "[1] Standard Errors assume that the covariance matrix of the errors is correctly specified.\n",
       "\"\"\""
      ]
     },
     "execution_count": 5,
     "metadata": {},
     "output_type": "execute_result"
    }
   ],
   "source": [
    "x = tb1['X']\n",
    "y = tb1['Y']\n",
    "x2 = sm.add_constant(x)\n",
    "model = sm.OLS(y, x2).fit()\n",
    "\n",
    "model.summary()"
   ]
  },
  {
   "cell_type": "markdown",
   "metadata": {},
   "source": [
    "$Y = -0.2882 + 1.6176*X$"
   ]
  },
  {
   "cell_type": "code",
   "execution_count": 6,
   "metadata": {},
   "outputs": [
    {
     "data": {
      "text/plain": [
       "0    0.670588\n",
       "1   -0.182353\n",
       "2   -0.800000\n",
       "3   -0.417647\n",
       "4    0.729412\n",
       "dtype: float64"
      ]
     },
     "execution_count": 6,
     "metadata": {},
     "output_type": "execute_result"
    }
   ],
   "source": [
    "e = model.resid\n",
    "e"
   ]
  },
  {
   "cell_type": "code",
   "execution_count": 7,
   "metadata": {},
   "outputs": [
    {
     "data": {
      "text/plain": [
       "0.604882098380483"
      ]
     },
     "execution_count": 7,
     "metadata": {},
     "output_type": "execute_result"
    }
   ],
   "source": [
    "np.std(e)"
   ]
  },
  {
   "cell_type": "markdown",
   "metadata": {},
   "source": [
    "Parameter estimation by MLE"
   ]
  },
  {
   "cell_type": "code",
   "execution_count": 8,
   "metadata": {},
   "outputs": [],
   "source": [
    "from scipy.optimize import minimize\n",
    "import matplotlib.pyplot as plt"
   ]
  },
  {
   "cell_type": "code",
   "execution_count": 9,
   "metadata": {},
   "outputs": [],
   "source": [
    "def lik(parameters):\n",
    "    m = parameters[0]\n",
    "    b = parameters[1]\n",
    "    sigma = parameters[2]\n",
    "    for i in np.arange(0, len(x)):\n",
    "        y_exp = m*x + b\n",
    "    L = (len(x)/2 * np.log(2 * np.pi) + len(x)/2 * np.log(sigma ** 2) + 1 / (2 * sigma ** 2) * sum((y - y_exp) ** 2))\n",
    "    return L\n",
    "\n",
    "x = np.array([1, 4, 5, 6, 9])\n",
    "y = np.array([2, 6, 7, 9, 15])\n",
    "lik_model = minimize(lik, np.array([2, 2, 2]), method='L-BFGS-B') "
   ]
  },
  {
   "cell_type": "code",
   "execution_count": 10,
   "metadata": {},
   "outputs": [
    {
     "data": {
      "text/plain": [
       "      fun: 4.581084072760748\n",
       " hess_inv: <3x3 LbfgsInvHessProduct with dtype=float64>\n",
       "      jac: array([1.20792266e-05, 7.99360578e-07, 1.33226762e-06])\n",
       "  message: 'CONVERGENCE: REL_REDUCTION_OF_F_<=_FACTR*EPSMCH'\n",
       "     nfev: 108\n",
       "      nit: 18\n",
       "     njev: 27\n",
       "   status: 0\n",
       "  success: True\n",
       "        x: array([ 1.61764712, -0.28823552,  0.60488214])"
      ]
     },
     "execution_count": 10,
     "metadata": {},
     "output_type": "execute_result"
    }
   ],
   "source": [
    "lik_model"
   ]
  },
  {
   "cell_type": "markdown",
   "metadata": {},
   "source": [
    "Example 2"
   ]
  },
  {
   "cell_type": "code",
   "execution_count": 11,
   "metadata": {},
   "outputs": [],
   "source": [
    "tb2 = pd.read_excel('Data Files\\Regcar.xlsx')"
   ]
  },
  {
   "cell_type": "code",
   "execution_count": 12,
   "metadata": {},
   "outputs": [
    {
     "data": {
      "text/html": [
       "<div>\n",
       "<style scoped>\n",
       "    .dataframe tbody tr th:only-of-type {\n",
       "        vertical-align: middle;\n",
       "    }\n",
       "\n",
       "    .dataframe tbody tr th {\n",
       "        vertical-align: top;\n",
       "    }\n",
       "\n",
       "    .dataframe thead th {\n",
       "        text-align: right;\n",
       "    }\n",
       "</style>\n",
       "<table border=\"1\" class=\"dataframe\">\n",
       "  <thead>\n",
       "    <tr style=\"text-align: right;\">\n",
       "      <th></th>\n",
       "      <th>TV Ads</th>\n",
       "      <th>car Sold</th>\n",
       "    </tr>\n",
       "  </thead>\n",
       "  <tbody>\n",
       "    <tr>\n",
       "      <th>0</th>\n",
       "      <td>1</td>\n",
       "      <td>14</td>\n",
       "    </tr>\n",
       "    <tr>\n",
       "      <th>1</th>\n",
       "      <td>3</td>\n",
       "      <td>24</td>\n",
       "    </tr>\n",
       "    <tr>\n",
       "      <th>2</th>\n",
       "      <td>2</td>\n",
       "      <td>18</td>\n",
       "    </tr>\n",
       "    <tr>\n",
       "      <th>3</th>\n",
       "      <td>1</td>\n",
       "      <td>17</td>\n",
       "    </tr>\n",
       "    <tr>\n",
       "      <th>4</th>\n",
       "      <td>3</td>\n",
       "      <td>27</td>\n",
       "    </tr>\n",
       "  </tbody>\n",
       "</table>\n",
       "</div>"
      ],
      "text/plain": [
       "   TV Ads  car Sold\n",
       "0       1        14\n",
       "1       3        24\n",
       "2       2        18\n",
       "3       1        17\n",
       "4       3        27"
      ]
     },
     "execution_count": 12,
     "metadata": {},
     "output_type": "execute_result"
    }
   ],
   "source": [
    "tb2"
   ]
  },
  {
   "cell_type": "code",
   "execution_count": 13,
   "metadata": {},
   "outputs": [
    {
     "name": "stderr",
     "output_type": "stream",
     "text": [
      "C:\\Users\\rpchi\\Anaconda3\\lib\\site-packages\\statsmodels\\tsa\\tsatools.py:142: FutureWarning: In a future version of pandas all arguments of concat except for the argument 'objs' will be keyword-only\n",
      "  x = pd.concat(x[::order], 1)\n",
      "C:\\Users\\rpchi\\Anaconda3\\lib\\site-packages\\statsmodels\\stats\\stattools.py:74: ValueWarning: omni_normtest is not valid with less than 8 observations; 5 samples were given.\n",
      "  warn(\"omni_normtest is not valid with less than 8 observations; %i \"\n"
     ]
    },
    {
     "data": {
      "text/html": [
       "<table class=\"simpletable\">\n",
       "<caption>OLS Regression Results</caption>\n",
       "<tr>\n",
       "  <th>Dep. Variable:</th>        <td>car Sold</td>     <th>  R-squared:         </th> <td>   0.877</td>\n",
       "</tr>\n",
       "<tr>\n",
       "  <th>Model:</th>                   <td>OLS</td>       <th>  Adj. R-squared:    </th> <td>   0.836</td>\n",
       "</tr>\n",
       "<tr>\n",
       "  <th>Method:</th>             <td>Least Squares</td>  <th>  F-statistic:       </th> <td>   21.43</td>\n",
       "</tr>\n",
       "<tr>\n",
       "  <th>Date:</th>             <td>Sun, 13 Mar 2022</td> <th>  Prob (F-statistic):</th>  <td>0.0190</td> \n",
       "</tr>\n",
       "<tr>\n",
       "  <th>Time:</th>                 <td>10:13:42</td>     <th>  Log-Likelihood:    </th> <td> -9.6687</td>\n",
       "</tr>\n",
       "<tr>\n",
       "  <th>No. Observations:</th>      <td>     5</td>      <th>  AIC:               </th> <td>   23.34</td>\n",
       "</tr>\n",
       "<tr>\n",
       "  <th>Df Residuals:</th>          <td>     3</td>      <th>  BIC:               </th> <td>   22.56</td>\n",
       "</tr>\n",
       "<tr>\n",
       "  <th>Df Model:</th>              <td>     1</td>      <th>                     </th>     <td> </td>   \n",
       "</tr>\n",
       "<tr>\n",
       "  <th>Covariance Type:</th>      <td>nonrobust</td>    <th>                     </th>     <td> </td>   \n",
       "</tr>\n",
       "</table>\n",
       "<table class=\"simpletable\">\n",
       "<tr>\n",
       "     <td></td>       <th>coef</th>     <th>std err</th>      <th>t</th>      <th>P>|t|</th>  <th>[0.025</th>    <th>0.975]</th>  \n",
       "</tr>\n",
       "<tr>\n",
       "  <th>const</th>  <td>   10.0000</td> <td>    2.366</td> <td>    4.226</td> <td> 0.024</td> <td>    2.469</td> <td>   17.531</td>\n",
       "</tr>\n",
       "<tr>\n",
       "  <th>TV Ads</th> <td>    5.0000</td> <td>    1.080</td> <td>    4.629</td> <td> 0.019</td> <td>    1.563</td> <td>    8.437</td>\n",
       "</tr>\n",
       "</table>\n",
       "<table class=\"simpletable\">\n",
       "<tr>\n",
       "  <th>Omnibus:</th>       <td>   nan</td> <th>  Durbin-Watson:     </th> <td>   1.214</td>\n",
       "</tr>\n",
       "<tr>\n",
       "  <th>Prob(Omnibus):</th> <td>   nan</td> <th>  Jarque-Bera (JB):  </th> <td>   0.674</td>\n",
       "</tr>\n",
       "<tr>\n",
       "  <th>Skew:</th>          <td> 0.256</td> <th>  Prob(JB):          </th> <td>   0.714</td>\n",
       "</tr>\n",
       "<tr>\n",
       "  <th>Kurtosis:</th>      <td> 1.276</td> <th>  Cond. No.          </th> <td>    6.33</td>\n",
       "</tr>\n",
       "</table><br/><br/>Notes:<br/>[1] Standard Errors assume that the covariance matrix of the errors is correctly specified."
      ],
      "text/plain": [
       "<class 'statsmodels.iolib.summary.Summary'>\n",
       "\"\"\"\n",
       "                            OLS Regression Results                            \n",
       "==============================================================================\n",
       "Dep. Variable:               car Sold   R-squared:                       0.877\n",
       "Model:                            OLS   Adj. R-squared:                  0.836\n",
       "Method:                 Least Squares   F-statistic:                     21.43\n",
       "Date:                Sun, 13 Mar 2022   Prob (F-statistic):             0.0190\n",
       "Time:                        10:13:42   Log-Likelihood:                -9.6687\n",
       "No. Observations:                   5   AIC:                             23.34\n",
       "Df Residuals:                       3   BIC:                             22.56\n",
       "Df Model:                           1                                         \n",
       "Covariance Type:            nonrobust                                         \n",
       "==============================================================================\n",
       "                 coef    std err          t      P>|t|      [0.025      0.975]\n",
       "------------------------------------------------------------------------------\n",
       "const         10.0000      2.366      4.226      0.024       2.469      17.531\n",
       "TV Ads         5.0000      1.080      4.629      0.019       1.563       8.437\n",
       "==============================================================================\n",
       "Omnibus:                          nan   Durbin-Watson:                   1.214\n",
       "Prob(Omnibus):                    nan   Jarque-Bera (JB):                0.674\n",
       "Skew:                           0.256   Prob(JB):                        0.714\n",
       "Kurtosis:                       1.276   Cond. No.                         6.33\n",
       "==============================================================================\n",
       "\n",
       "Notes:\n",
       "[1] Standard Errors assume that the covariance matrix of the errors is correctly specified.\n",
       "\"\"\""
      ]
     },
     "execution_count": 13,
     "metadata": {},
     "output_type": "execute_result"
    }
   ],
   "source": [
    "x = tb2['TV Ads']\n",
    "y = tb2['car Sold']\n",
    "x2 = sm.add_constant(x)\n",
    "model = sm.OLS(y, x2).fit()\n",
    "model.summary()"
   ]
  },
  {
   "cell_type": "markdown",
   "metadata": {},
   "source": [
    "$y = 10 + 5*x$ "
   ]
  },
  {
   "cell_type": "code",
   "execution_count": 14,
   "metadata": {},
   "outputs": [
    {
     "data": {
      "text/plain": [
       "0   -1.0\n",
       "1   -1.0\n",
       "2   -2.0\n",
       "3    2.0\n",
       "4    2.0\n",
       "dtype: float64"
      ]
     },
     "execution_count": 14,
     "metadata": {},
     "output_type": "execute_result"
    }
   ],
   "source": [
    "e = model.resid\n",
    "e"
   ]
  },
  {
   "cell_type": "code",
   "execution_count": 15,
   "metadata": {},
   "outputs": [
    {
     "data": {
      "text/plain": [
       "1.6733200530681516"
      ]
     },
     "execution_count": 15,
     "metadata": {},
     "output_type": "execute_result"
    }
   ],
   "source": [
    "np.std(e)"
   ]
  },
  {
   "cell_type": "code",
   "execution_count": 16,
   "metadata": {},
   "outputs": [],
   "source": [
    "x = np.array([1, 3, 2, 1, 3])\n",
    "y = np.array([14, 24, 18, 17, 27])\n",
    "lik_model = minimize(lik, np.array([2, 2, 2]), method='Nelder-Mead')"
   ]
  },
  {
   "cell_type": "code",
   "execution_count": 17,
   "metadata": {},
   "outputs": [
    {
     "data": {
      "text/plain": [
       " final_simplex: (array([[ 5.00000631, 10.00000822,  1.67332132],\n",
       "       [ 4.99996581, 10.00008112,  1.67332683],\n",
       "       [ 4.99998382, 10.00002278,  1.67329385],\n",
       "       [ 5.00001119,  9.9999767 ,  1.67334933]]), array([9.66874121, 9.66874121, 9.66874121, 9.66874121]))\n",
       "           fun: 9.668741209395263\n",
       "       message: 'Optimization terminated successfully.'\n",
       "          nfev: 212\n",
       "           nit: 118\n",
       "        status: 0\n",
       "       success: True\n",
       "             x: array([ 5.00000631, 10.00000822,  1.67332132])"
      ]
     },
     "execution_count": 17,
     "metadata": {},
     "output_type": "execute_result"
    }
   ],
   "source": [
    "lik_model"
   ]
  },
  {
   "cell_type": "code",
   "execution_count": 18,
   "metadata": {},
   "outputs": [
    {
     "data": {
      "text/plain": [
       "array([ 5.00000631, 10.00000822,  1.67332132])"
      ]
     },
     "execution_count": 18,
     "metadata": {},
     "output_type": "execute_result"
    }
   ],
   "source": [
    "lik_model.x"
   ]
  },
  {
   "cell_type": "code",
   "execution_count": 19,
   "metadata": {},
   "outputs": [
    {
     "data": {
      "image/png": "[encoded data removed]",
      "text/plain": [
       "<Figure size 432x288 with 1 Axes>"
      ]
     },
     "metadata": {
      "needs_background": "light"
     },
     "output_type": "display_data"
    }
   ],
   "source": [
    "plt.scatter(x, y)\n",
    "plt.plot(x, lik_model['x'][0] * x + lik_model['x'][1])\n",
    "plt.show()"
   ]
  },
  {
   "cell_type": "code",
   "execution_count": 20,
   "metadata": {},
   "outputs": [
    {
     "name": "stdout",
     "output_type": "stream",
     "text": [
      "\u001b[1;31mSignature:\u001b[0m\n",
      "\u001b[0mminimize\u001b[0m\u001b[1;33m(\u001b[0m\u001b[1;33m\n",
      "\u001b[0m    \u001b[0mfun\u001b[0m\u001b[1;33m,\u001b[0m\u001b[1;33m\n",
      "\u001b[0m    \u001b[0mx0\u001b[0m\u001b[1;33m,\u001b[0m\u001b[1;33m\n",
      "\u001b[0m    \u001b[0margs\u001b[0m\u001b[1;33m=\u001b[0m\u001b[1;33m(\u001b[0m\u001b[1;33m)\u001b[0m\u001b[1;33m,\u001b[0m\u001b[1;33m\n",
      "\u001b[0m    \u001b[0mmethod\u001b[0m\u001b[1;33m=\u001b[0m\u001b[1;32mNone\u001b[0m\u001b[1;33m,\u001b[0m\u001b[1;33m\n",
      "\u001b[0m    \u001b[0mjac\u001b[0m\u001b[1;33m=\u001b[0m\u001b[1;32mNone\u001b[0m\u001b[1;33m,\u001b[0m\u001b[1;33m\n",
      "\u001b[0m    \u001b[0mhess\u001b[0m\u001b[1;33m=\u001b[0m\u001b[1;32mNone\u001b[0m\u001b[1;33m,\u001b[0m\u001b[1;33m\n",
      "\u001b[0m    \u001b[0mhessp\u001b[0m\u001b[1;33m=\u001b[0m\u001b[1;32mNone\u001b[0m\u001b[1;33m,\u001b[0m\u001b[1;33m\n",
      "\u001b[0m    \u001b[0mbounds\u001b[0m\u001b[1;33m=\u001b[0m\u001b[1;32mNone\u001b[0m\u001b[1;33m,\u001b[0m\u001b[1;33m\n",
      "\u001b[0m    \u001b[0mconstraints\u001b[0m\u001b[1;33m=\u001b[0m\u001b[1;33m(\u001b[0m\u001b[1;33m)\u001b[0m\u001b[1;33m,\u001b[0m\u001b[1;33m\n",
      "\u001b[0m    \u001b[0mtol\u001b[0m\u001b[1;33m=\u001b[0m\u001b[1;32mNone\u001b[0m\u001b[1;33m,\u001b[0m\u001b[1;33m\n",
      "\u001b[0m    \u001b[0mcallback\u001b[0m\u001b[1;33m=\u001b[0m\u001b[1;32mNone\u001b[0m\u001b[1;33m,\u001b[0m\u001b[1;33m\n",
      "\u001b[0m    \u001b[0moptions\u001b[0m\u001b[1;33m=\u001b[0m\u001b[1;32mNone\u001b[0m\u001b[1;33m,\u001b[0m\u001b[1;33m\n",
      "\u001b[0m\u001b[1;33m)\u001b[0m\u001b[1;33m\u001b[0m\u001b[1;33m\u001b[0m\u001b[0m\n",
      "\u001b[1;31mDocstring:\u001b[0m\n",
      "Minimization of scalar function of one or more variables.\n",
      "\n",
      "Parameters\n",
      "----------\n",
      "fun : callable\n",
      "    The objective function to be minimized.\n",
      "\n",
      "        ``fun(x, *args) -> float``\n",
      "\n",
      "    where ``x`` is an 1-D array with shape (n,) and ``args``\n",
      "    is a tuple of the fixed parameters needed to completely\n",
      "    specify the function.\n",
      "x0 : ndarray, shape (n,)\n",
      "    Initial guess. Array of real elements of size (n,),\n",
      "    where 'n' is the number of independent variables.\n",
      "args : tuple, optional\n",
      "    Extra arguments passed to the objective function and its\n",
      "    derivatives (`fun`, `jac` and `hess` functions).\n",
      "method : str or callable, optional\n",
      "    Type of solver.  Should be one of\n",
      "\n",
      "        - 'Nelder-Mead' :ref:`(see here) <optimize.minimize-neldermead>`\n",
      "        - 'Powell'      :ref:`(see here) <optimize.minimize-powell>`\n",
      "        - 'CG'          :ref:`(see here) <optimize.minimize-cg>`\n",
      "        - 'BFGS'        :ref:`(see here) <optimize.minimize-bfgs>`\n",
      "        - 'Newton-CG'   :ref:`(see here) <optimize.minimize-newtoncg>`\n",
      "        - 'L-BFGS-B'    :ref:`(see here) <optimize.minimize-lbfgsb>`\n",
      "        - 'TNC'         :ref:`(see here) <optimize.minimize-tnc>`\n",
      "        - 'COBYLA'      :ref:`(see here) <optimize.minimize-cobyla>`\n",
      "        - 'SLSQP'       :ref:`(see here) <optimize.minimize-slsqp>`\n",
      "        - 'trust-constr':ref:`(see here) <optimize.minimize-trustconstr>`\n",
      "        - 'dogleg'      :ref:`(see here) <optimize.minimize-dogleg>`\n",
      "        - 'trust-ncg'   :ref:`(see here) <optimize.minimize-trustncg>`\n",
      "        - 'trust-exact' :ref:`(see here) <optimize.minimize-trustexact>`\n",
      "        - 'trust-krylov' :ref:`(see here) <optimize.minimize-trustkrylov>`\n",
      "        - custom - a callable object (added in version 0.14.0),\n",
      "          see below for description.\n",
      "\n",
      "    If not given, chosen to be one of ``BFGS``, ``L-BFGS-B``, ``SLSQP``,\n",
      "    depending if the problem has constraints or bounds.\n",
      "jac : {callable,  '2-point', '3-point', 'cs', bool}, optional\n",
      "    Method for computing the gradient vector. Only for CG, BFGS,\n",
      "    Newton-CG, L-BFGS-B, TNC, SLSQP, dogleg, trust-ncg, trust-krylov,\n",
      "    trust-exact and trust-constr.\n",
      "    If it is a callable, it should be a function that returns the gradient\n",
      "    vector:\n",
      "\n",
      "        ``jac(x, *args) -> array_like, shape (n,)``\n",
      "\n",
      "    where ``x`` is an array with shape (n,) and ``args`` is a tuple with\n",
      "    the fixed parameters. If `jac` is a Boolean and is True, `fun` is\n",
      "    assumed to return a tuple ``(f, g)`` containing the objective\n",
      "    function and the gradient.\n",
      "    Methods 'Newton-CG', 'trust-ncg', 'dogleg', 'trust-exact', and\n",
      "    'trust-krylov' require that either a callable be supplied, or that\n",
      "    `fun` return the objective and gradient.\n",
      "    If None or False, the gradient will be estimated using 2-point finite\n",
      "    difference estimation with an absolute step size.\n",
      "    Alternatively, the keywords  {'2-point', '3-point', 'cs'} can be used\n",
      "    to select a finite difference scheme for numerical estimation of the\n",
      "    gradient with a relative step size. These finite difference schemes\n",
      "    obey any specified `bounds`.\n",
      "hess : {callable, '2-point', '3-point', 'cs', HessianUpdateStrategy}, optional\n",
      "    Method for computing the Hessian matrix. Only for Newton-CG, dogleg,\n",
      "    trust-ncg, trust-krylov, trust-exact and trust-constr. If it is\n",
      "    callable, it should return the Hessian matrix:\n",
      "\n",
      "        ``hess(x, *args) -> {LinearOperator, spmatrix, array}, (n, n)``\n",
      "\n",
      "    where x is a (n,) ndarray and `args` is a tuple with the fixed\n",
      "    parameters. LinearOperator and sparse matrix returns are only allowed\n",
      "    for 'trust-constr' method. Alternatively, the keywords\n",
      "    {'2-point', '3-point', 'cs'} select a finite difference scheme\n",
      "    for numerical estimation. Or, objects implementing the\n",
      "    `HessianUpdateStrategy` interface can be used to approximate\n",
      "    the Hessian. Available quasi-Newton methods implementing\n",
      "    this interface are:\n",
      "\n",
      "        - `BFGS`;\n",
      "        - `SR1`.\n",
      "\n",
      "    Whenever the gradient is estimated via finite-differences,\n",
      "    the Hessian cannot be estimated with options\n",
      "    {'2-point', '3-point', 'cs'} and needs to be\n",
      "    estimated using one of the quasi-Newton strategies.\n",
      "    'trust-exact' cannot use a finite-difference scheme, and must be used\n",
      "    with a callable returning an (n, n) array.\n",
      "hessp : callable, optional\n",
      "    Hessian of objective function times an arbitrary vector p. Only for\n",
      "    Newton-CG, trust-ncg, trust-krylov, trust-constr.\n",
      "    Only one of `hessp` or `hess` needs to be given.  If `hess` is\n",
      "    provided, then `hessp` will be ignored.  `hessp` must compute the\n",
      "    Hessian times an arbitrary vector:\n",
      "\n",
      "        ``hessp(x, p, *args) ->  ndarray shape (n,)``\n",
      "\n",
      "    where x is a (n,) ndarray, p is an arbitrary vector with\n",
      "    dimension (n,) and `args` is a tuple with the fixed\n",
      "    parameters.\n",
      "bounds : sequence or `Bounds`, optional\n",
      "    Bounds on variables for Nelder-Mead, L-BFGS-B, TNC, SLSQP, Powell, and\n",
      "    trust-constr methods. There are two ways to specify the bounds:\n",
      "\n",
      "        1. Instance of `Bounds` class.\n",
      "        2. Sequence of ``(min, max)`` pairs for each element in `x`. None\n",
      "           is used to specify no bound.\n",
      "\n",
      "constraints : {Constraint, dict} or List of {Constraint, dict}, optional\n",
      "    Constraints definition (only for COBYLA, SLSQP and trust-constr).\n",
      "\n",
      "    Constraints for 'trust-constr' are defined as a single object or a\n",
      "    list of objects specifying constraints to the optimization problem.\n",
      "    Available constraints are:\n",
      "\n",
      "        - `LinearConstraint`\n",
      "        - `NonlinearConstraint`\n",
      "\n",
      "    Constraints for COBYLA, SLSQP are defined as a list of dictionaries.\n",
      "    Each dictionary with fields:\n",
      "\n",
      "        type : str\n",
      "            Constraint type: 'eq' for equality, 'ineq' for inequality.\n",
      "        fun : callable\n",
      "            The function defining the constraint.\n",
      "        jac : callable, optional\n",
      "            The Jacobian of `fun` (only for SLSQP).\n",
      "        args : sequence, optional\n",
      "            Extra arguments to be passed to the function and Jacobian.\n",
      "\n",
      "    Equality constraint means that the constraint function result is to\n",
      "    be zero whereas inequality means that it is to be non-negative.\n",
      "    Note that COBYLA only supports inequality constraints.\n",
      "tol : float, optional\n",
      "    Tolerance for termination. When `tol` is specified, the selected\n",
      "    minimization algorithm sets some relevant solver-specific tolerance(s)\n",
      "    equal to `tol`. For detailed control, use solver-specific\n",
      "    options.\n",
      "options : dict, optional\n",
      "    A dictionary of solver options. All methods accept the following\n",
      "    generic options:\n",
      "\n",
      "        maxiter : int\n",
      "            Maximum number of iterations to perform. Depending on the\n",
      "            method each iteration may use several function evaluations.\n",
      "        disp : bool\n",
      "            Set to True to print convergence messages.\n",
      "\n",
      "    For method-specific options, see :func:`show_options()`.\n",
      "callback : callable, optional\n",
      "    Called after each iteration. For 'trust-constr' it is a callable with\n",
      "    the signature:\n",
      "\n",
      "        ``callback(xk, OptimizeResult state) -> bool``\n",
      "\n",
      "    where ``xk`` is the current parameter vector. and ``state``\n",
      "    is an `OptimizeResult` object, with the same fields\n",
      "    as the ones from the return. If callback returns True\n",
      "    the algorithm execution is terminated.\n",
      "    For all the other methods, the signature is:\n",
      "\n",
      "        ``callback(xk)``\n",
      "\n",
      "    where ``xk`` is the current parameter vector.\n",
      "\n",
      "Returns\n",
      "-------\n",
      "res : OptimizeResult\n",
      "    The optimization result represented as a ``OptimizeResult`` object.\n",
      "    Important attributes are: ``x`` the solution array, ``success`` a\n",
      "    Boolean flag indicating if the optimizer exited successfully and\n",
      "    ``message`` which describes the cause of the termination. See\n",
      "    `OptimizeResult` for a description of other attributes.\n",
      "\n",
      "See also\n",
      "--------\n",
      "minimize_scalar : Interface to minimization algorithms for scalar\n",
      "    univariate functions\n",
      "show_options : Additional options accepted by the solvers\n",
      "\n",
      "Notes\n",
      "-----\n",
      "This section describes the available solvers that can be selected by the\n",
      "'method' parameter. The default method is *BFGS*.\n",
      "\n",
      "**Unconstrained minimization**\n",
      "\n",
      "Method :ref:`CG <optimize.minimize-cg>` uses a nonlinear conjugate\n",
      "gradient algorithm by Polak and Ribiere, a variant of the\n",
      "Fletcher-Reeves method described in [5]_ pp.120-122. Only the\n",
      "first derivatives are used.\n",
      "\n",
      "Method :ref:`BFGS <optimize.minimize-bfgs>` uses the quasi-Newton\n",
      "method of Broyden, Fletcher, Goldfarb, and Shanno (BFGS) [5]_\n",
      "pp. 136. It uses the first derivatives only. BFGS has proven good\n",
      "performance even for non-smooth optimizations. This method also\n",
      "returns an approximation of the Hessian inverse, stored as\n",
      "`hess_inv` in the OptimizeResult object.\n",
      "\n",
      "Method :ref:`Newton-CG <optimize.minimize-newtoncg>` uses a\n",
      "Newton-CG algorithm [5]_ pp. 168 (also known as the truncated\n",
      "Newton method). It uses a CG method to the compute the search\n",
      "direction. See also *TNC* method for a box-constrained\n",
      "minimization with a similar algorithm. Suitable for large-scale\n",
      "problems.\n",
      "\n",
      "Method :ref:`dogleg <optimize.minimize-dogleg>` uses the dog-leg\n",
      "trust-region algorithm [5]_ for unconstrained minimization. This\n",
      "algorithm requires the gradient and Hessian; furthermore the\n",
      "Hessian is required to be positive definite.\n",
      "\n",
      "Method :ref:`trust-ncg <optimize.minimize-trustncg>` uses the\n",
      "Newton conjugate gradient trust-region algorithm [5]_ for\n",
      "unconstrained minimization. This algorithm requires the gradient\n",
      "and either the Hessian or a function that computes the product of\n",
      "the Hessian with a given vector. Suitable for large-scale problems.\n",
      "\n",
      "Method :ref:`trust-krylov <optimize.minimize-trustkrylov>` uses\n",
      "the Newton GLTR trust-region algorithm [14]_, [15]_ for unconstrained\n",
      "minimization. This algorithm requires the gradient\n",
      "and either the Hessian or a function that computes the product of\n",
      "the Hessian with a given vector. Suitable for large-scale problems.\n",
      "On indefinite problems it requires usually less iterations than the\n",
      "`trust-ncg` method and is recommended for medium and large-scale problems.\n",
      "\n",
      "Method :ref:`trust-exact <optimize.minimize-trustexact>`\n",
      "is a trust-region method for unconstrained minimization in which\n",
      "quadratic subproblems are solved almost exactly [13]_. This\n",
      "algorithm requires the gradient and the Hessian (which is\n",
      "*not* required to be positive definite). It is, in many\n",
      "situations, the Newton method to converge in fewer iteraction\n",
      "and the most recommended for small and medium-size problems.\n",
      "\n",
      "**Bound-Constrained minimization**\n",
      "\n",
      "Method :ref:`Nelder-Mead <optimize.minimize-neldermead>` uses the\n",
      "Simplex algorithm [1]_, [2]_. This algorithm is robust in many\n",
      "applications. However, if numerical computation of derivative can be\n",
      "trusted, other algorithms using the first and/or second derivatives\n",
      "information might be preferred for their better performance in\n",
      "general.\n",
      "\n",
      "Method :ref:`L-BFGS-B <optimize.minimize-lbfgsb>` uses the L-BFGS-B\n",
      "algorithm [6]_, [7]_ for bound constrained minimization.\n",
      "\n",
      "Method :ref:`Powell <optimize.minimize-powell>` is a modification\n",
      "of Powell's method [3]_, [4]_ which is a conjugate direction\n",
      "method. It performs sequential one-dimensional minimizations along\n",
      "each vector of the directions set (`direc` field in `options` and\n",
      "`info`), which is updated at each iteration of the main\n",
      "minimization loop. The function need not be differentiable, and no\n",
      "derivatives are taken. If bounds are not provided, then an\n",
      "unbounded line search will be used. If bounds are provided and\n",
      "the initial guess is within the bounds, then every function\n",
      "evaluation throughout the minimization procedure will be within\n",
      "the bounds. If bounds are provided, the initial guess is outside\n",
      "the bounds, and `direc` is full rank (default has full rank), then\n",
      "some function evaluations during the first iteration may be\n",
      "outside the bounds, but every function evaluation after the first\n",
      "iteration will be within the bounds. If `direc` is not full rank,\n",
      "then some parameters may not be optimized and the solution is not\n",
      "guaranteed to be within the bounds.\n",
      "\n",
      "Method :ref:`TNC <optimize.minimize-tnc>` uses a truncated Newton\n",
      "algorithm [5]_, [8]_ to minimize a function with variables subject\n",
      "to bounds. This algorithm uses gradient information; it is also\n",
      "called Newton Conjugate-Gradient. It differs from the *Newton-CG*\n",
      "method described above as it wraps a C implementation and allows\n",
      "each variable to be given upper and lower bounds.\n",
      "\n",
      "**Constrained Minimization**\n",
      "\n",
      "Method :ref:`COBYLA <optimize.minimize-cobyla>` uses the\n",
      "Constrained Optimization BY Linear Approximation (COBYLA) method\n",
      "[9]_, [10]_, [11]_. The algorithm is based on linear\n",
      "approximations to the objective function and each constraint. The\n",
      "method wraps a FORTRAN implementation of the algorithm. The\n",
      "constraints functions 'fun' may return either a single number\n",
      "or an array or list of numbers.\n",
      "\n",
      "Method :ref:`SLSQP <optimize.minimize-slsqp>` uses Sequential\n",
      "Least SQuares Programming to minimize a function of several\n",
      "variables with any combination of bounds, equality and inequality\n",
      "constraints. The method wraps the SLSQP Optimization subroutine\n",
      "originally implemented by Dieter Kraft [12]_. Note that the\n",
      "wrapper handles infinite values in bounds by converting them into\n",
      "large floating values.\n",
      "\n",
      "Method :ref:`trust-constr <optimize.minimize-trustconstr>` is a\n",
      "trust-region algorithm for constrained optimization. It swiches\n",
      "between two implementations depending on the problem definition.\n",
      "It is the most versatile constrained minimization algorithm\n",
      "implemented in SciPy and the most appropriate for large-scale problems.\n",
      "For equality constrained problems it is an implementation of Byrd-Omojokun\n",
      "Trust-Region SQP method described in [17]_ and in [5]_, p. 549. When\n",
      "inequality constraints  are imposed as well, it swiches to the trust-region\n",
      "interior point  method described in [16]_. This interior point algorithm,\n",
      "in turn, solves inequality constraints by introducing slack variables\n",
      "and solving a sequence of equality-constrained barrier problems\n",
      "for progressively smaller values of the barrier parameter.\n",
      "The previously described equality constrained SQP method is\n",
      "used to solve the subproblems with increasing levels of accuracy\n",
      "as the iterate gets closer to a solution.\n",
      "\n",
      "**Finite-Difference Options**\n",
      "\n",
      "For Method :ref:`trust-constr <optimize.minimize-trustconstr>`\n",
      "the gradient and the Hessian may be approximated using\n",
      "three finite-difference schemes: {'2-point', '3-point', 'cs'}.\n",
      "The scheme 'cs' is, potentially, the most accurate but it\n",
      "requires the function to correctly handles complex inputs and to\n",
      "be differentiable in the complex plane. The scheme '3-point' is more\n",
      "accurate than '2-point' but requires twice as many operations.\n",
      "\n",
      "**Custom minimizers**\n",
      "\n",
      "It may be useful to pass a custom minimization method, for example\n",
      "when using a frontend to this method such as `scipy.optimize.basinhopping`\n",
      "or a different library.  You can simply pass a callable as the ``method``\n",
      "parameter.\n",
      "\n",
      "The callable is called as ``method(fun, x0, args, **kwargs, **options)``\n",
      "where ``kwargs`` corresponds to any other parameters passed to `minimize`\n",
      "(such as `callback`, `hess`, etc.), except the `options` dict, which has\n",
      "its contents also passed as `method` parameters pair by pair.  Also, if\n",
      "`jac` has been passed as a bool type, `jac` and `fun` are mangled so that\n",
      "`fun` returns just the function values and `jac` is converted to a function\n",
      "returning the Jacobian.  The method shall return an `OptimizeResult`\n",
      "object.\n",
      "\n",
      "The provided `method` callable must be able to accept (and possibly ignore)\n",
      "arbitrary parameters; the set of parameters accepted by `minimize` may\n",
      "expand in future versions and then these parameters will be passed to\n",
      "the method.  You can find an example in the scipy.optimize tutorial.\n",
      "\n",
      ".. versionadded:: 0.11.0\n",
      "\n",
      "References\n",
      "----------\n",
      ".. [1] Nelder, J A, and R Mead. 1965. A Simplex Method for Function\n",
      "    Minimization. The Computer Journal 7: 308-13.\n",
      ".. [2] Wright M H. 1996. Direct search methods: Once scorned, now\n",
      "    respectable, in Numerical Analysis 1995: Proceedings of the 1995\n",
      "    Dundee Biennial Conference in Numerical Analysis (Eds. D F\n",
      "    Griffiths and G A Watson). Addison Wesley Longman, Harlow, UK.\n",
      "    191-208.\n",
      ".. [3] Powell, M J D. 1964. An efficient method for finding the minimum of\n",
      "   a function of several variables without calculating derivatives. The\n",
      "   Computer Journal 7: 155-162.\n",
      ".. [4] Press W, S A Teukolsky, W T Vetterling and B P Flannery.\n",
      "   Numerical Recipes (any edition), Cambridge University Press.\n",
      ".. [5] Nocedal, J, and S J Wright. 2006. Numerical Optimization.\n",
      "   Springer New York.\n",
      ".. [6] Byrd, R H and P Lu and J. Nocedal. 1995. A Limited Memory\n",
      "   Algorithm for Bound Constrained Optimization. SIAM Journal on\n",
      "   Scientific and Statistical Computing 16 (5): 1190-1208.\n",
      ".. [7] Zhu, C and R H Byrd and J Nocedal. 1997. L-BFGS-B: Algorithm\n",
      "   778: L-BFGS-B, FORTRAN routines for large scale bound constrained\n",
      "   optimization. ACM Transactions on Mathematical Software 23 (4):\n",
      "   550-560.\n",
      ".. [8] Nash, S G. Newton-Type Minimization Via the Lanczos Method.\n",
      "   1984. SIAM Journal of Numerical Analysis 21: 770-778.\n",
      ".. [9] Powell, M J D. A direct search optimization method that models\n",
      "   the objective and constraint functions by linear interpolation.\n",
      "   1994. Advances in Optimization and Numerical Analysis, eds. S. Gomez\n",
      "   and J-P Hennart, Kluwer Academic (Dordrecht), 51-67.\n",
      ".. [10] Powell M J D. Direct search algorithms for optimization\n",
      "   calculations. 1998. Acta Numerica 7: 287-336.\n",
      ".. [11] Powell M J D. A view of algorithms for optimization without\n",
      "   derivatives. 2007.Cambridge University Technical Report DAMTP\n",
      "   2007/NA03\n",
      ".. [12] Kraft, D. A software package for sequential quadratic\n",
      "   programming. 1988. Tech. Rep. DFVLR-FB 88-28, DLR German Aerospace\n",
      "   Center -- Institute for Flight Mechanics, Koln, Germany.\n",
      ".. [13] Conn, A. R., Gould, N. I., and Toint, P. L.\n",
      "   Trust region methods. 2000. Siam. pp. 169-200.\n",
      ".. [14] F. Lenders, C. Kirches, A. Potschka: \"trlib: A vector-free\n",
      "   implementation of the GLTR method for iterative solution of\n",
      "   the trust region problem\", :arxiv:`1611.04718`\n",
      ".. [15] N. Gould, S. Lucidi, M. Roma, P. Toint: \"Solving the\n",
      "   Trust-Region Subproblem using the Lanczos Method\",\n",
      "   SIAM J. Optim., 9(2), 504--525, (1999).\n",
      ".. [16] Byrd, Richard H., Mary E. Hribar, and Jorge Nocedal. 1999.\n",
      "    An interior point algorithm for large-scale nonlinear  programming.\n",
      "    SIAM Journal on Optimization 9.4: 877-900.\n",
      ".. [17] Lalee, Marucha, Jorge Nocedal, and Todd Plantega. 1998. On the\n",
      "    implementation of an algorithm for large-scale equality constrained\n",
      "    optimization. SIAM Journal on Optimization 8.3: 682-706.\n",
      "\n",
      "Examples\n",
      "--------\n",
      "Let us consider the problem of minimizing the Rosenbrock function. This\n",
      "function (and its respective derivatives) is implemented in `rosen`\n",
      "(resp. `rosen_der`, `rosen_hess`) in the `scipy.optimize`.\n",
      "\n",
      ">>> from scipy.optimize import minimize, rosen, rosen_der\n",
      "\n",
      "A simple application of the *Nelder-Mead* method is:\n",
      "\n",
      ">>> x0 = [1.3, 0.7, 0.8, 1.9, 1.2]\n",
      ">>> res = minimize(rosen, x0, method='Nelder-Mead', tol=1e-6)\n",
      ">>> res.x\n",
      "array([ 1.,  1.,  1.,  1.,  1.])\n",
      "\n",
      "Now using the *BFGS* algorithm, using the first derivative and a few\n",
      "options:\n",
      "\n",
      ">>> res = minimize(rosen, x0, method='BFGS', jac=rosen_der,\n",
      "...                options={'gtol': 1e-6, 'disp': True})\n",
      "Optimization terminated successfully.\n",
      "         Current function value: 0.000000\n",
      "         Iterations: 26\n",
      "         Function evaluations: 31\n",
      "         Gradient evaluations: 31\n",
      ">>> res.x\n",
      "array([ 1.,  1.,  1.,  1.,  1.])\n",
      ">>> print(res.message)\n",
      "Optimization terminated successfully.\n",
      ">>> res.hess_inv\n",
      "array([[ 0.00749589,  0.01255155,  0.02396251,  0.04750988,  0.09495377],  # may vary\n",
      "       [ 0.01255155,  0.02510441,  0.04794055,  0.09502834,  0.18996269],\n",
      "       [ 0.02396251,  0.04794055,  0.09631614,  0.19092151,  0.38165151],\n",
      "       [ 0.04750988,  0.09502834,  0.19092151,  0.38341252,  0.7664427 ],\n",
      "       [ 0.09495377,  0.18996269,  0.38165151,  0.7664427,   1.53713523]])\n",
      "\n",
      "\n",
      "Next, consider a minimization problem with several constraints (namely\n",
      "Example 16.4 from [5]_). The objective function is:\n",
      "\n",
      ">>> fun = lambda x: (x[0] - 1)**2 + (x[1] - 2.5)**2\n",
      "\n",
      "There are three constraints defined as:\n",
      "\n",
      ">>> cons = ({'type': 'ineq', 'fun': lambda x:  x[0] - 2 * x[1] + 2},\n",
      "...         {'type': 'ineq', 'fun': lambda x: -x[0] - 2 * x[1] + 6},\n",
      "...         {'type': 'ineq', 'fun': lambda x: -x[0] + 2 * x[1] + 2})\n",
      "\n",
      "And variables must be positive, hence the following bounds:\n",
      "\n",
      ">>> bnds = ((0, None), (0, None))\n",
      "\n",
      "The optimization problem is solved using the SLSQP method as:\n",
      "\n",
      ">>> res = minimize(fun, (2, 0), method='SLSQP', bounds=bnds,\n",
      "...                constraints=cons)\n",
      "\n",
      "It should converge to the theoretical solution (1.4 ,1.7).\n",
      "\u001b[1;31mFile:\u001b[0m      c:\\users\\rpchi\\anaconda3\\lib\\site-packages\\scipy\\optimize\\_minimize.py\n",
      "\u001b[1;31mType:\u001b[0m      function\n"
     ]
    }
   ],
   "source": [
    "minimize?"
   ]
  },
  {
   "cell_type": "markdown",
   "metadata": {},
   "source": [
    "### Logistic Regression"
   ]
  },
  {
   "cell_type": "markdown",
   "metadata": {},
   "source": [
    "Simmons owns and operates a national chain of women's apparel stores.\n",
    "\n",
    "5000 copies of an expensive four-color sales catalog have been printed, and each catalog includes a coupon that provides a $50 discount on purchases of $200 and more. "
   ]
  },
  {
   "cell_type": "markdown",
   "metadata": {},
   "source": [
    "The catalogs are expensive and Simmons would like to send them to only those customers who have the highest probability of using the coupon."
   ]
  },
  {
   "cell_type": "code",
   "execution_count": 23,
   "metadata": {},
   "outputs": [],
   "source": [
    "df = pd.read_excel('Data Files\\Simmons.xlsx')"
   ]
  },
  {
   "cell_type": "code",
   "execution_count": 24,
   "metadata": {},
   "outputs": [
    {
     "data": {
      "text/html": [
       "<div>\n",
       "<style scoped>\n",
       "    .dataframe tbody tr th:only-of-type {\n",
       "        vertical-align: middle;\n",
       "    }\n",
       "\n",
       "    .dataframe tbody tr th {\n",
       "        vertical-align: top;\n",
       "    }\n",
       "\n",
       "    .dataframe thead th {\n",
       "        text-align: right;\n",
       "    }\n",
       "</style>\n",
       "<table border=\"1\" class=\"dataframe\">\n",
       "  <thead>\n",
       "    <tr style=\"text-align: right;\">\n",
       "      <th></th>\n",
       "      <th>Customer</th>\n",
       "      <th>Spending</th>\n",
       "      <th>Card</th>\n",
       "      <th>Coupon</th>\n",
       "    </tr>\n",
       "  </thead>\n",
       "  <tbody>\n",
       "    <tr>\n",
       "      <th>0</th>\n",
       "      <td>1</td>\n",
       "      <td>2.291</td>\n",
       "      <td>1</td>\n",
       "      <td>0</td>\n",
       "    </tr>\n",
       "    <tr>\n",
       "      <th>1</th>\n",
       "      <td>2</td>\n",
       "      <td>3.215</td>\n",
       "      <td>1</td>\n",
       "      <td>0</td>\n",
       "    </tr>\n",
       "    <tr>\n",
       "      <th>2</th>\n",
       "      <td>3</td>\n",
       "      <td>2.135</td>\n",
       "      <td>1</td>\n",
       "      <td>0</td>\n",
       "    </tr>\n",
       "    <tr>\n",
       "      <th>3</th>\n",
       "      <td>4</td>\n",
       "      <td>3.924</td>\n",
       "      <td>0</td>\n",
       "      <td>0</td>\n",
       "    </tr>\n",
       "    <tr>\n",
       "      <th>4</th>\n",
       "      <td>5</td>\n",
       "      <td>2.528</td>\n",
       "      <td>1</td>\n",
       "      <td>0</td>\n",
       "    </tr>\n",
       "    <tr>\n",
       "      <th>...</th>\n",
       "      <td>...</td>\n",
       "      <td>...</td>\n",
       "      <td>...</td>\n",
       "      <td>...</td>\n",
       "    </tr>\n",
       "    <tr>\n",
       "      <th>95</th>\n",
       "      <td>96</td>\n",
       "      <td>3.318</td>\n",
       "      <td>0</td>\n",
       "      <td>0</td>\n",
       "    </tr>\n",
       "    <tr>\n",
       "      <th>96</th>\n",
       "      <td>97</td>\n",
       "      <td>2.421</td>\n",
       "      <td>1</td>\n",
       "      <td>0</td>\n",
       "    </tr>\n",
       "    <tr>\n",
       "      <th>97</th>\n",
       "      <td>98</td>\n",
       "      <td>6.073</td>\n",
       "      <td>0</td>\n",
       "      <td>0</td>\n",
       "    </tr>\n",
       "    <tr>\n",
       "      <th>98</th>\n",
       "      <td>99</td>\n",
       "      <td>2.630</td>\n",
       "      <td>1</td>\n",
       "      <td>0</td>\n",
       "    </tr>\n",
       "    <tr>\n",
       "      <th>99</th>\n",
       "      <td>100</td>\n",
       "      <td>3.411</td>\n",
       "      <td>0</td>\n",
       "      <td>1</td>\n",
       "    </tr>\n",
       "  </tbody>\n",
       "</table>\n",
       "<p>100 rows × 4 columns</p>\n",
       "</div>"
      ],
      "text/plain": [
       "    Customer  Spending  Card  Coupon\n",
       "0          1     2.291     1       0\n",
       "1          2     3.215     1       0\n",
       "2          3     2.135     1       0\n",
       "3          4     3.924     0       0\n",
       "4          5     2.528     1       0\n",
       "..       ...       ...   ...     ...\n",
       "95        96     3.318     0       0\n",
       "96        97     2.421     1       0\n",
       "97        98     6.073     0       0\n",
       "98        99     2.630     1       0\n",
       "99       100     3.411     0       1\n",
       "\n",
       "[100 rows x 4 columns]"
      ]
     },
     "execution_count": 24,
     "metadata": {},
     "output_type": "execute_result"
    }
   ],
   "source": [
    "df"
   ]
  },
  {
   "cell_type": "code",
   "execution_count": 25,
   "metadata": {},
   "outputs": [
    {
     "data": {
      "text/plain": [
       "<matplotlib.collections.PathCollection at 0x22b460a9550>"
      ]
     },
     "execution_count": 25,
     "metadata": {},
     "output_type": "execute_result"
    },
    {
     "data": {
      "image/png": "[encoded data removed]",
      "text/plain": [
       "<Figure size 432x288 with 1 Axes>"
      ]
     },
     "metadata": {
      "needs_background": "light"
     },
     "output_type": "display_data"
    }
   ],
   "source": [
    "plt.scatter(df.Spending, df.Coupon, marker='+', color='red')"
   ]
  },
  {
   "cell_type": "code",
   "execution_count": 26,
   "metadata": {},
   "outputs": [],
   "source": [
    "x = df[['Card', 'Spending']]\n",
    "y = df['Coupon']"
   ]
  },
  {
   "cell_type": "code",
   "execution_count": 28,
   "metadata": {},
   "outputs": [
    {
     "name": "stdout",
     "output_type": "stream",
     "text": [
      "Optimization terminated successfully.\n",
      "         Current function value: 0.604869\n",
      "         Iterations 5\n"
     ]
    },
    {
     "name": "stderr",
     "output_type": "stream",
     "text": [
      "C:\\Users\\rpchi\\Anaconda3\\lib\\site-packages\\statsmodels\\tsa\\tsatools.py:142: FutureWarning: In a future version of pandas all arguments of concat except for the argument 'objs' will be keyword-only\n",
      "  x = pd.concat(x[::order], 1)\n"
     ]
    },
    {
     "data": {
      "text/html": [
       "<table class=\"simpletable\">\n",
       "<caption>Logit Regression Results</caption>\n",
       "<tr>\n",
       "  <th>Dep. Variable:</th>        <td>Coupon</td>      <th>  No. Observations:  </th>  <td>   100</td> \n",
       "</tr>\n",
       "<tr>\n",
       "  <th>Model:</th>                 <td>Logit</td>      <th>  Df Residuals:      </th>  <td>    97</td> \n",
       "</tr>\n",
       "<tr>\n",
       "  <th>Method:</th>                 <td>MLE</td>       <th>  Df Model:          </th>  <td>     2</td> \n",
       "</tr>\n",
       "<tr>\n",
       "  <th>Date:</th>            <td>Sun, 13 Mar 2022</td> <th>  Pseudo R-squ.:     </th>  <td>0.1012</td> \n",
       "</tr>\n",
       "<tr>\n",
       "  <th>Time:</th>                <td>10:46:40</td>     <th>  Log-Likelihood:    </th> <td> -60.487</td>\n",
       "</tr>\n",
       "<tr>\n",
       "  <th>converged:</th>             <td>True</td>       <th>  LL-Null:           </th> <td> -67.301</td>\n",
       "</tr>\n",
       "<tr>\n",
       "  <th>Covariance Type:</th>     <td>nonrobust</td>    <th>  LLR p-value:       </th> <td>0.001098</td>\n",
       "</tr>\n",
       "</table>\n",
       "<table class=\"simpletable\">\n",
       "<tr>\n",
       "      <td></td>        <th>coef</th>     <th>std err</th>      <th>z</th>      <th>P>|z|</th>  <th>[0.025</th>    <th>0.975]</th>  \n",
       "</tr>\n",
       "<tr>\n",
       "  <th>const</th>    <td>   -2.1464</td> <td>    0.577</td> <td>   -3.718</td> <td> 0.000</td> <td>   -3.278</td> <td>   -1.015</td>\n",
       "</tr>\n",
       "<tr>\n",
       "  <th>Card</th>     <td>    1.0987</td> <td>    0.445</td> <td>    2.471</td> <td> 0.013</td> <td>    0.227</td> <td>    1.970</td>\n",
       "</tr>\n",
       "<tr>\n",
       "  <th>Spending</th> <td>    0.3416</td> <td>    0.129</td> <td>    2.655</td> <td> 0.008</td> <td>    0.089</td> <td>    0.594</td>\n",
       "</tr>\n",
       "</table>"
      ],
      "text/plain": [
       "<class 'statsmodels.iolib.summary.Summary'>\n",
       "\"\"\"\n",
       "                           Logit Regression Results                           \n",
       "==============================================================================\n",
       "Dep. Variable:                 Coupon   No. Observations:                  100\n",
       "Model:                          Logit   Df Residuals:                       97\n",
       "Method:                           MLE   Df Model:                            2\n",
       "Date:                Sun, 13 Mar 2022   Pseudo R-squ.:                  0.1012\n",
       "Time:                        10:46:40   Log-Likelihood:                -60.487\n",
       "converged:                       True   LL-Null:                       -67.301\n",
       "Covariance Type:            nonrobust   LLR p-value:                  0.001098\n",
       "==============================================================================\n",
       "                 coef    std err          z      P>|z|      [0.025      0.975]\n",
       "------------------------------------------------------------------------------\n",
       "const         -2.1464      0.577     -3.718      0.000      -3.278      -1.015\n",
       "Card           1.0987      0.445      2.471      0.013       0.227       1.970\n",
       "Spending       0.3416      0.129      2.655      0.008       0.089       0.594\n",
       "==============================================================================\n",
       "\"\"\""
      ]
     },
     "execution_count": 28,
     "metadata": {},
     "output_type": "execute_result"
    }
   ],
   "source": [
    "x1 = sm.add_constant(x)\n",
    "logit_model = sm.Logit(y, x1).fit()\n",
    "logit_model.summary()"
   ]
  },
  {
   "cell_type": "code",
   "execution_count": null,
   "metadata": {},
   "outputs": [],
   "source": []
  }
 ],
 "metadata": {
  "interpreter": {
   "hash": "20d0306443241d6c063ff12721f408fc6d3e4e935e37fce2c42759e88ae4874a"
  },
  "kernelspec": {
   "display_name": "Python 3.9.7 ('base')",
   "language": "python",
   "name": "python3"
  },
  "language_info": {
   "codemirror_mode": {
    "name": "ipython",
    "version": 3
   },
   "file_extension": ".py",
   "mimetype": "text/x-python",
   "name": "python",
   "nbconvert_exporter": "python",
   "pygments_lexer": "ipython3",
   "version": "3.9.7"
  },
  "orig_nbformat": 4
 },
 "nbformat": 4,
 "nbformat_minor": 2
}
